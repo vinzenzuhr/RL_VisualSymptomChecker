{
 "cells": [
  {
   "cell_type": "markdown",
   "id": "5e78ae8c-1633-4bff-acf9-39c31127e57f",
   "metadata": {},
   "source": [
    "## Reinforcement Learning Environment"
   ]
  },
  {
   "cell_type": "code",
   "execution_count": 869,
   "id": "92d17349-7872-4ec0-a307-6787b39324f0",
   "metadata": {
    "jupyter": {
     "source_hidden": true
    },
    "scrolled": true
   },
   "outputs": [],
   "source": [
    "import numpy as np\n",
    "from typing import Dict, Tuple, List\n",
    "import csv\n",
    "from dataclasses import dataclass\n",
    "from itertools import count\n",
    "import torch\n",
    "import torch.nn as nn\n",
    "import torch.optim as optim\n",
    "import torch.nn.functional as F\n",
    "from collections import deque, namedtuple\n",
    "import matplotlib\n",
    "import matplotlib.pyplot as plt\n",
    "import math\n",
    "import random\n"
   ]
  },
  {
   "cell_type": "code",
   "execution_count": 870,
   "id": "f93bba08-3f21-4ad7-a7a3-34882c366865",
   "metadata": {},
   "outputs": [],
   "source": [
    "Transition = namedtuple(\"Transition\", (\"state\", \"action\", \"next_state\", \"reward\"))\n",
    "\n",
    "class Env: \n",
    "    _condition_symptom_probabilities: Dict[str, Dict[str, float]] # conditions with symptoms and their probabilities\n",
    "    _actions: list[str] # symptoms\n",
    "    _init_state: np.array\n",
    "    _current_state: np.array\n",
    "    _img: np.array\n",
    "    _condition: str \n",
    "    _symptoms_of_condition: Dict[str, float] # symptoms of conditions\n",
    "    _supported_conditions : list[str]\n",
    "    \n",
    "    def __init__(self,\n",
    "                 img: np.array,\n",
    "                 condition: str = None,\n",
    "                ) -> None:  \n",
    "        self._supported_conditions=[\"Alveolar Proteinosis\", \"Pertussis\", \"Lobar Pneumonia\"]\n",
    "        self._img = img\n",
    "        if(condition is None): \n",
    "            condition = random.sample(self._supported_conditions,1)[0]\n",
    "        self._condition = condition\n",
    "            \n",
    "\n",
    "        # init condition_symptom_probabilities from health knowledge graph\n",
    "        #self._condition_symptom_probabilities= dict()\n",
    "        #with open('HealthKnowledgeGraph.csv', newline='') as csvfile:\n",
    "        #    reader = csv.reader(csvfile, delimiter=',')\n",
    "        #    reader.__next__() # skip header\n",
    "        #    for condition in reader:\n",
    "        #        self._condition_symptom_probabilities[condition[0]] = dict()\n",
    "        #        for symptom_prob in condition[1].split(','):\n",
    "        #            # examples for symptom_prob: pain (0.318), fever (0.119) or swelling (0.112)\n",
    "        #            symptom = symptom_prob.split('(')[0].strip()\n",
    "        #            prob = float(symptom_prob.split('(')[1].split(')')[0])\n",
    "        #            self._condition_symptom_probabilities[condition[0]][symptom] = prob\n",
    "\n",
    "        # init condition_symptom_probabilities from slake knowledge graph \n",
    "        self._condition_symptom_probabilities= dict()\n",
    "        with open('Slake1.0/KG/en_disease.csv', newline='') as csvfile:\n",
    "            reader = csv.reader(csvfile, delimiter='#')\n",
    "            reader.__next__() # skip header \n",
    "            for row in reader:\n",
    "                if(row[1]!=\"symptom\"):\n",
    "                    continue\n",
    "                if(row[0] not in self._supported_conditions):\n",
    "                    continue\n",
    "                self._condition_symptom_probabilities[row[0]] = dict()\n",
    "                n_symptoms=len(row[2].split(','))\n",
    "                uniform_prob = 1/(2**n_symptoms)\n",
    "                for symptom in row[2].split(','):\n",
    "                    #assign uniform conditional probability because no conditional probability are available \n",
    "                    self._condition_symptom_probabilities[row[0]][symptom.strip()] = uniform_prob\n",
    "\n",
    "        # check if condition is valid\n",
    "        if(self._condition not in self._condition_symptom_probabilities.keys()):\n",
    "            raise ValueError('Unknow Condition: ' + condition + '. Please choose one of the following: ' + str(self._condition_symptom_probabilities.keys()))\n",
    "        \n",
    "        # init symptoms_of_condition for easier access\n",
    "        self._symptoms_of_condition = dict()\n",
    "        for symptom in self._condition_symptom_probabilities[self._condition]:\n",
    "            self._symptoms_of_condition[symptom] = self._condition_symptom_probabilities[self._condition][symptom] \n",
    "    \n",
    "        # init actions\n",
    "        self._actions = list()\n",
    "        for condition in self._condition_symptom_probabilities.keys(): \n",
    "            for symptom in list(self._condition_symptom_probabilities[condition]):\n",
    "                if symptom not in self._actions:\n",
    "                    self._actions.append(symptom) \n",
    "\n",
    "        # init init_state = vector with cnn output (probabilities per condition) and history of asked symptoms (0=not asked, 1=symptom is present, -1=symptom is not present)\n",
    "        visual_prior = np.random.uniform(size=(len(self._condition_symptom_probabilities.keys()))) #TODO: replace with cnn output\n",
    "        visual_prior = np.ones(shape=(len(self._condition_symptom_probabilities.keys())))\n",
    "        self._init_state = np.concatenate((visual_prior,np.zeros((len(self._actions)))), axis=0)\n",
    "        self._current_state = self._init_state \n",
    "\n",
    "    def posterior_of_condition(self, condition: str) -> float: \n",
    "        #TODO: What is the correct likelihood calculation? If we use multiplication as in P(x,y)=P(x)*P(y), the likelihood gets smaller \n",
    "        #and nothing prevents the model from asking symptoms which are not related to the condition.\n",
    "        likelihood=0\n",
    "        for idx, symptom in enumerate(self._actions):\n",
    "            patient_answer = self._current_state[idx+len(self._condition_symptom_probabilities.keys())]\n",
    "            #if (patient_answer==1) and (symptom not in self._condition_symptom_probabilities[condition].keys()):\n",
    "            #    likelihood*= 0\n",
    "            #elif (patient_answer==-1) and (symptom not in self._condition_symptom_probabilities[condition].keys()):\n",
    "            #    likelihood*=1\n",
    "            if (symptom not in self._condition_symptom_probabilities[condition].keys()):\n",
    "                #TODO: Do we have to punish the model if a symptom is positive and is not related to the condition?\n",
    "                continue\n",
    "            elif patient_answer==1:\n",
    "                likelihood+=self._condition_symptom_probabilities[condition][symptom]\n",
    "            elif patient_answer==-1:\n",
    "                likelihood+=(1-self._condition_symptom_probabilities[condition][symptom]) \n",
    "\n",
    "        prior = self._current_state[list(self._condition_symptom_probabilities.keys()).index(condition)]\n",
    "        return likelihood*prior\n",
    "    \n",
    "    def reward(self) -> float:\n",
    "        #TODO: Is it a problem when the reward gets smaller and smaller?\n",
    "        return self.posterior_of_condition(self._condition)\n",
    "    \n",
    "    def has_symptom(self, symptom: str) -> bool:\n",
    "        if symptom not in self._symptoms_of_condition:\n",
    "            return False\n",
    "        else:\n",
    "            phi = np.random.uniform()\n",
    "            return phi <= self._symptoms_of_condition[symptom]\n",
    "\n",
    "    def step(self, action_idx: int) -> Transition: \n",
    "        action = self._actions[action_idx]\n",
    "        old_state = self._current_state.copy()\n",
    "        self._current_state[len(self._condition_symptom_probabilities.keys()) + action_idx] = 1 if self.has_symptom(action) else -1\n",
    "        \n",
    "        return Transition(old_state, action_idx, self._current_state, self.reward())\n",
    "    \n",
    "    def reset(self) -> np.array:\n",
    "        self._current_state = self._init_state \n",
    "        return self._current_state"
   ]
  },
  {
   "cell_type": "code",
   "execution_count": 871,
   "id": "ac0fbf52-4eed-4213-968f-b60a063075e6",
   "metadata": {},
   "outputs": [],
   "source": [
    "class ReplayMemory():\n",
    "    def __init__(self, capacity):\n",
    "        self.memory=deque([], maxlen=capacity)\n",
    "    def push(self, transition):\n",
    "        self.memory.append(transition)\n",
    "    def sample(self, batch_size):\n",
    "        return random.sample(self.memory, batch_size)\n",
    "    def __len__(self):\n",
    "        return len(self.memory)"
   ]
  },
  {
   "cell_type": "code",
   "execution_count": 872,
   "id": "c4a72e76-f95a-424e-b4e0-6ae107bb0496",
   "metadata": {},
   "outputs": [],
   "source": [
    "class DQN(nn.Module):\n",
    "    def __init__(self, n_observations, n_actions):\n",
    "        super(DQN, self).__init__()\n",
    "        self.layer1 = nn.Linear(n_observations, 128, dtype=torch.double)\n",
    "        self.layer2 = nn.Linear(128, 128, dtype=torch.double)\n",
    "        self.layer3 = nn.Linear(128, n_actions, dtype=torch.double)\n",
    "    def forward(self, x):\n",
    "        x = F.relu(self.layer1(x))\n",
    "        x = F.relu(self.layer2(x))\n",
    "        return self.layer3(x)\n",
    "\n"
   ]
  },
  {
   "cell_type": "code",
   "execution_count": 873,
   "id": "94bafe8f-001e-4d29-aa17-81b3fc6cbaae",
   "metadata": {},
   "outputs": [],
   "source": [
    "#is_ipython = \"inline\" in matplotlib.get_backend()\n",
    "#if is_ipython:\n",
    "#    from IPython import display\n",
    "#plt.ion()\n",
    "\n",
    "\n",
    "device = torch.device(\"cuda\" if torch.cuda.is_available() else \"cpu\")"
   ]
  },
  {
   "cell_type": "code",
   "execution_count": 874,
   "id": "c58b4b16-cefa-4028-b8b7-6673a1dd7776",
   "metadata": {},
   "outputs": [],
   "source": [
    "myEnv=Env(np.array([]), 'Pertussis')"
   ]
  },
  {
   "cell_type": "code",
   "execution_count": 875,
   "id": "62f58ab8-ba87-4c26-8237-fa4fda48ed48",
   "metadata": {},
   "outputs": [],
   "source": [
    "# BATCH_SIZE is the number of transitions sampled form the replay buffer\n",
    "#GAMMA is the discount factor as mentioned in the previous section\n",
    "#SIZE is the number of transitions sampled from the replay buffer\n",
    "#EPS START is the starting value of epsilon\n",
    "#EPS DECAY controls the rate of exposential decay of epsilon, higher means a slower decay\n",
    "#EPS END is the final value of epsilon\n",
    "#TAU is the update rate of the target network IN is the learning rate of the Adams optimizar\n",
    "BATCH_SIZE = 128\n",
    "GAMMA = 0.99\n",
    "EPS_START = 0.9\n",
    "EPS_END = 0.05\n",
    "EPS_DECAY = 1000\n",
    "TAU = 0.005\n",
    "LR = 1e-5\n",
    "\n",
    "#Get number of actions from gym action spane\n",
    "myEnv.reset()\n",
    "n_actions = len(myEnv._actions)\n",
    "n_observations = len(myEnv._current_state)\n",
    "\n",
    "policy_net = DQN(n_observations, n_actions).to(device)\n",
    "target_net = DQN(n_observations, n_actions).to(device)\n",
    "target_net.load_state_dict(policy_net.state_dict())\n",
    "\n",
    "optimizer = optim.AdamW(policy_net.parameters(), lr=LR, amsgrad=True)\n",
    "memory = ReplayMemory(10000)\n",
    "\n",
    "steps_done = 0 "
   ]
  },
  {
   "cell_type": "code",
   "execution_count": 876,
   "id": "562b38b8-4bd3-4275-97ba-ee6c519d9457",
   "metadata": {},
   "outputs": [],
   "source": [
    "def optimize_model(losses, gradient_norms):\n",
    "    if len(memory) < BATCH_SIZE: \n",
    "        return\n",
    "    transitions = memory.sample(BATCH_SIZE)\n",
    "    #converts batch_array of Transitions to Transition of batch_arrays\n",
    "    batch = Transition(*zip(*transitions))\n",
    "\n",
    "    next_state_batch = torch.tensor(batch.next_state)\n",
    "    state_batch = torch.tensor(batch.state)\n",
    "    action_batch = torch.tensor(batch.action)\n",
    "    reward_batch = torch.tensor(batch.reward)\n",
    "\n",
    "    state_action_values = policy_net(state_batch).gather(1, action_batch[None,:])\n",
    "\n",
    "    next_state_values = torch.zeros(BATCH_SIZE, device=device)\n",
    "    with torch.no_grad():\n",
    "        next_state_values = target_net(next_state_batch).max(1)[0]\n",
    "\n",
    "    expected_state_action_values = (next_state_values * GAMMA) + reward_batch\n",
    "\n",
    "    criterion = nn.SmoothL1Loss()\n",
    "    loss = criterion(state_action_values.squeeze(), expected_state_action_values)\n",
    "\n",
    "    losses.append(loss.detach())\n",
    "\n",
    "    parameters = [p for p in policy_net.parameters() if p.grad is not None and p.requires_grad]\n",
    "    if len(parameters) == 0:\n",
    "        total_norm = 0.0\n",
    "    else: \n",
    "        total_norm = torch.norm(torch.stack([torch.norm(p.grad.detach()).to(device) for p in parameters]), 2.0).item()\n",
    "    gradient_norms.append(total_norm)\n",
    "    \n",
    "    optimizer.zero_grad()\n",
    "    loss.backward()\n",
    "    nn.utils.clip_grad_value_(policy_net.parameters(),100)\n",
    "    optimizer.step()\n",
    "\n",
    "    "
   ]
  },
  {
   "cell_type": "code",
   "execution_count": 877,
   "id": "e2d30dd9-2f47-40fb-939f-9e1987e782bd",
   "metadata": {},
   "outputs": [],
   "source": [
    "def select_action(myEnv, state, epsilon, i_decay):\n",
    "    if epsilon > EPS_END:\n",
    "        epsilon = EPS_START * math.exp(-i_decay/EPS_DECAY)\n",
    "        i_decay+=1; \n",
    "    randnum = np.random.rand(1)\n",
    "    if randnum < epsilon:\n",
    "        action_idx = np.random.randint(len(myEnv._actions))\n",
    "    else:\n",
    "        with torch.no_grad():\n",
    "            action_idx = np.argmax(policy_net(torch.tensor(state))).item() \n",
    "    \n",
    "    return action_idx"
   ]
  },
  {
   "cell_type": "code",
   "execution_count": 878,
   "id": "0b56974e-27f7-4f4b-a1bf-7204037b1352",
   "metadata": {},
   "outputs": [
    {
     "name": "stdout",
     "output_type": "stream",
     "text": [
      "complete\n"
     ]
    }
   ],
   "source": [
    "num_episodes = 600\n",
    "len_episode = 10\n",
    "i_decay=1\n",
    "epsilon = EPS_START\n",
    "losses=[]\n",
    "gradient_norms=[]\n",
    "\n",
    "for _ in range(num_episodes):\n",
    "    myEnv=Env(np.array([]))\n",
    "    state = myEnv.reset()\n",
    "    for _ in range(len_episode):\n",
    "        action_idx = select_action(myEnv, state, epsilon, i_decay)\n",
    "        transition = myEnv.step(action_idx)\n",
    "        \n",
    "        memory.push(transition)\n",
    "        state = transition.next_state\n",
    "        optimize_model(losses, gradient_norms)\n",
    "\n",
    "        #Soft update of target  network weights\n",
    "        target_net_state_dict = target_net.state_dict()\n",
    "        policy_net_state_dict = policy_net.state_dict()\n",
    "        for key in policy_net_state_dict:\n",
    "            target_net_state_dict[key] = policy_net_state_dict[key]*TAU + target_net_state_dict[key]*(1-TAU)\n",
    "        target_net.load_state_dict(target_net_state_dict)\n",
    "\n",
    "    #episode_durations.append(t + 1)\n",
    "    #plot_durations()\n",
    "\n",
    "print(\"complete\")\n",
    "#plot_durations(show_result=True)\n",
    "#plt.ioff()\n",
    "#plt.show() "
   ]
  },
  {
   "cell_type": "code",
   "execution_count": 879,
   "id": "8e4bd178-8674-4f0c-8bcd-e5d475ad2209",
   "metadata": {},
   "outputs": [
    {
     "data": {
      "text/plain": [
       "[<matplotlib.lines.Line2D at 0x7ff98af06f90>]"
      ]
     },
     "execution_count": 879,
     "metadata": {},
     "output_type": "execute_result"
    },
    {
     "data": {
      "image/png": "[encoded data removed]",
      "text/plain": [
       "<Figure size 640x480 with 1 Axes>"
      ]
     },
     "metadata": {},
     "output_type": "display_data"
    }
   ],
   "source": [
    "plt.plot(losses)"
   ]
  },
  {
   "cell_type": "code",
   "execution_count": 880,
   "id": "eceae2b1-ad50-42c7-adaa-81fd2997f226",
   "metadata": {},
   "outputs": [
    {
     "data": {
      "text/plain": [
       "[<matplotlib.lines.Line2D at 0x7ff98ab1d1d0>]"
      ]
     },
     "execution_count": 880,
     "metadata": {},
     "output_type": "execute_result"
    },
    {
     "data": {
      "image/png": "[encoded data removed]",
      "text/plain": [
       "<Figure size 640x480 with 1 Axes>"
      ]
     },
     "metadata": {},
     "output_type": "display_data"
    }
   ],
   "source": [
    "plt.plot(gradient_norms)"
   ]
  },
  {
   "cell_type": "markdown",
   "id": "84d2cacf-7e24-42cd-944e-67ad9c4fde4f",
   "metadata": {},
   "source": [
    "### Test cases"
   ]
  },
  {
   "cell_type": "code",
   "execution_count": 881,
   "id": "d6b283ce",
   "metadata": {},
   "outputs": [
    {
     "name": "stdout",
     "output_type": "stream",
     "text": [
      "Symptoms for Pertussis:\n",
      "{'spastic cough': 0.5}\n",
      "Expected uniform conditional proabability: 1\\( 2 )\n",
      "\n",
      " Probability of spastic cough after 10000 samples: 0.5048\n"
     ]
    }
   ],
   "source": [
    "#Testing simulated patient answers\n",
    "myTestEnv=Env(np.array([]), 'Pertussis')\n",
    "print(\"Symptoms for Pertussis:\")\n",
    "print(myTestEnv._condition_symptom_probabilities['Pertussis'])\n",
    "print(\"Expected uniform conditional proabability: 1\\(\", 2**len(myTestEnv._condition_symptom_probabilities['Pertussis'].keys()), \")\")\n",
    "n=0\n",
    "prob=0\n",
    "for i in range(10000):\n",
    "    n+=1\n",
    "    if myTestEnv.has_symptom('spastic cough'):\n",
    "        prob+=1 \n",
    "print(\"\\n Probability of spastic cough after 10000 samples: \" + str(prob/n))"
   ]
  },
  {
   "cell_type": "code",
   "execution_count": 882,
   "id": "ae050ce7",
   "metadata": {},
   "outputs": [
    {
     "name": "stdout",
     "output_type": "stream",
     "text": [
      "prior of condition:\n",
      "1.0\n",
      "Probability of cyanosis: 0.0625\n",
      "Result patient asking if he has cyanosis: -1.0\n",
      "Probability of chest pain: 0.0625\n",
      "Result patient asking if he has chest pain: -1.0\n",
      "Probability of dyspnea: 0.0625\n",
      "Result patient asking if he has dyspnea: -1.0\n",
      "Reward: 2.8125\n"
     ]
    }
   ],
   "source": [
    "#Testing reward\n",
    "myTestEnv=Env(np.array([]), 'Alveolar Proteinosis')\n",
    "print(\"prior of condition:\")\n",
    "print(myTestEnv._current_state[list(myTestEnv._condition_symptom_probabilities.keys()).index(\"Alveolar Proteinosis\")])\n",
    "\n",
    "myTestEnv.step(myTestEnv._actions.index('cyanosis'))\n",
    "result=myTestEnv._current_state[len(myTestEnv._condition_symptom_probabilities.keys()) + list(myTestEnv._actions).index('cyanosis')] \n",
    "print(\"Probability of cyanosis: \" + str(myTestEnv._condition_symptom_probabilities['Alveolar Proteinosis']['cyanosis']))\n",
    "print(\"Result patient asking if he has cyanosis: \" + str(result))\n",
    "\n",
    "myTestEnv.step(myTestEnv._actions.index('chest pain'))\n",
    "result=myTestEnv._current_state[len(myTestEnv._condition_symptom_probabilities.keys()) + list(myTestEnv._actions).index('chest pain')] \n",
    "print(\"Probability of chest pain: \" + str(myTestEnv._condition_symptom_probabilities['Alveolar Proteinosis']['chest pain']))\n",
    "print(\"Result patient asking if he has chest pain: \" + str(result))\n",
    "\n",
    "myTestEnv.step(myTestEnv._actions.index('dyspnea'))\n",
    "result=myTestEnv._current_state[len(myTestEnv._condition_symptom_probabilities.keys()) + list(myTestEnv._actions).index('dyspnea')] \n",
    "print(\"Probability of dyspnea: \" + str(myTestEnv._condition_symptom_probabilities['Alveolar Proteinosis']['dyspnea']))\n",
    "print(\"Result patient asking if he has dyspnea: \" + str(result))\n",
    "\n",
    "print(\"Reward: \" + str(myTestEnv.reward()))"
   ]
  }
 ],
 "metadata": {
  "kernelspec": {
   "display_name": "Python 3 (ipykernel)",
   "language": "python",
   "name": "python3"
  },
  "language_info": {
   "codemirror_mode": {
    "name": "ipython",
    "version": 3
   },
   "file_extension": ".py",
   "mimetype": "text/x-python",
   "name": "python",
   "nbconvert_exporter": "python",
   "pygments_lexer": "ipython3",
   "version": "3.11.6"
  }
 },
 "nbformat": 4,
 "nbformat_minor": 5
}
