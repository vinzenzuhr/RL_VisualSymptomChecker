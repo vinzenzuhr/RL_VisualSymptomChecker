{
 "cells": [
  {
   "cell_type": "markdown",
   "id": "5e78ae8c-1633-4bff-acf9-39c31127e57f",
   "metadata": {},
   "source": [
    "## Reinforcement Learning Environment"
   ]
  },
  {
   "cell_type": "code",
   "execution_count": 144,
   "id": "92d17349-7872-4ec0-a307-6787b39324f0",
   "metadata": {
    "scrolled": true
   },
   "outputs": [],
   "source": [
    "import gym\n",
    "from gym import spaces\n",
    "import pygame\n",
    "import numpy as np\n",
    "from typing import Dict, Tuple, List\n",
    "import csv"
   ]
  },
  {
   "cell_type": "code",
   "execution_count": 145,
   "id": "f93bba08-3f21-4ad7-a7a3-34882c366865",
   "metadata": {},
   "outputs": [],
   "source": [
    "@dataclasses.dataclass\n",
    "class Transition:\n",
    "    state: np.array\n",
    "    action: str \n",
    "    next_state: np.array\n",
    "    reward: float \n",
    "\n",
    "class Env: \n",
    "    _condition_symptom_probabilities: Dict[str, Dict[str, float]] # conditions with symptoms and their probabilities\n",
    "    _actions: set[str] # symptoms\n",
    "    _init_state: np.array\n",
    "    _current_state: np.array\n",
    "    _img: np.array\n",
    "    _condition: str\n",
    "    _symptoms_of_condition: Dict[str, float] # symptoms of conditions\n",
    "    \n",
    "    def __init__(self,\n",
    "                 img: np.array,\n",
    "                 condition: str,\n",
    "                ) -> None:  \n",
    "        self._img = img\n",
    "        self._condition = condition\n",
    "\n",
    "        # init condition_symptom_probabilities from health knowledge graph\n",
    "        self._condition_symptom_probabilities= dict()\n",
    "        with open('HealthKnowledgeGraph.csv', newline='') as csvfile:\n",
    "            reader = csv.reader(csvfile, delimiter=',')\n",
    "            reader.__next__() # skip header\n",
    "            for condition in reader:\n",
    "                self._condition_symptom_probabilities[condition[0]] = dict()\n",
    "                for symptom_prob in condition[1].split(','):\n",
    "                    # examples for symptom_prob: pain (0.318), fever (0.119) or swelling (0.112)\n",
    "                    symptom = symptom_prob.split('(')[0].strip()\n",
    "                    prob = float(symptom_prob.split('(')[1].split(')')[0])\n",
    "                    self._condition_symptom_probabilities[condition[0]][symptom] = prob \n",
    "\n",
    "        # check if condition is valid\n",
    "        if(self._condition not in self._condition_symptom_probabilities.keys()):\n",
    "            raise ValueError('Unknow Condition: ' + condition + '. Please choose one of the following: ' + str(self._condition_symptom_probabilities.keys()))\n",
    "        \n",
    "        # init symptoms_of_condition for easier access\n",
    "        self._symptoms_of_condition = dict()\n",
    "        for symptom in self._condition_symptom_probabilities[self._condition]:\n",
    "            self._symptoms_of_condition[symptom] = self._condition_symptom_probabilities[self._condition][symptom] \n",
    "    \n",
    "        # init actions\n",
    "        self._actions = set()\n",
    "        for condition in self._condition_symptom_probabilities.keys(): \n",
    "            for symptom in list(self._condition_symptom_probabilities[condition]): \n",
    "                self._actions.add(symptom)   \n",
    "\n",
    "        # init init_state = vector with cnn output (probabilities per condition) and history of asked symptoms (0=not asked, 1=symptom is present, -1=symptom is not present)\n",
    "        visual_prior = np.random.uniform(size=(len(self._condition_symptom_probabilities.keys()))) #TODO: replace with cnn output\n",
    "        self._init_state = np.concatenate((visual_prior,np.zeros((len(self._actions)))), axis=0)\n",
    "        self._current_state = self._init_state \n",
    "\n",
    "    def posterior_of_condition(self, condition: str) -> float:\n",
    "        #TODO: make it faster with matrix multiplication\n",
    "        likelihood=1\n",
    "        for idx, symptom in enumerate(self._actions):\n",
    "            patient_answer = self._current_state[idx+len(self._condition_symptom_probabilities.keys())]\n",
    "            if (patient_answer!=0) and (symptom not in self._condition_symptom_probabilities[condition].keys()):\n",
    "                likelihood*= 0.0001 # TODO: laplace smoothing correct?\n",
    "            elif patient_answer==1:\n",
    "                likelihood*= self._condition_symptom_probabilities[condition][symptom]\n",
    "            elif patient_answer==-1:\n",
    "                likelihood*= (1-self._condition_symptom_probabilities[condition][symptom])\n",
    "\n",
    "        prior = self._current_state[list(self._condition_symptom_probabilities.keys()).index(condition)] \n",
    "        return likelihood*prior\n",
    "    \n",
    "    def reward(self) -> float:\n",
    "        #TODO: Is it a problem when the reward gets smaller and smaller?\n",
    "        return self.posterior_of_condition(self._condition)\n",
    "    \n",
    "    def has_symptom(self, symptom: str) -> bool:\n",
    "        if symptom not in self._symptoms_of_condition:\n",
    "            return False\n",
    "        else:\n",
    "            phi = np.random.uniform()\n",
    "            return phi <= self._symptoms_of_condition[symptom]\n",
    "\n",
    "    def step(self, action: str) -> Transition:\n",
    "        #check if action is valid\n",
    "        if(action not in self._actions):\n",
    "            raise ValueError('Unknow Action: ' + action + '. Please choose one of the following: ' + str(self._actions))\n",
    "        \n",
    "        old_state = self._current_state.copy()\n",
    "        self._current_state[len(self._condition_symptom_probabilities.keys()) + list(self._actions).index(action)] = 1 if self.has_symptom(action) else -1\n",
    "        \n",
    "        return Transition(old_state, action, self._current_state, self.reward())\n",
    "    \n",
    "    def reset(self) -> None:\n",
    "        self._current_state = self._init_state"
   ]
  },
  {
   "cell_type": "markdown",
   "id": "84d2cacf-7e24-42cd-944e-67ad9c4fde4f",
   "metadata": {},
   "source": [
    "### Test cases"
   ]
  },
  {
   "cell_type": "code",
   "execution_count": 146,
   "id": "d6b283ce",
   "metadata": {},
   "outputs": [
    {
     "name": "stdout",
     "output_type": "stream",
     "text": [
      "Symptoms for abscess:\n",
      "{'pain': 0.318, 'fever': 0.119, 'swelling': 0.112, 'redness': 0.094, 'chills': 0.092, 'infection': 0.083, 'cyst': 0.047, 'tenderness': 0.037, 'rectal pain': 0.026, 'lesion': 0.025, 'lump': 0.023, 'sore throat': 0.021, 'facial swelling': 0.016, 'pimple': 0.016, 'discomfort': 0.014, 'difficulty swallowing': 0.013, 'cavity': 0.013, 'night sweats': 0.007, 'severe pain': 0.007, 'abdominal pain': 0.007, 'painful swallowing': 0.007, 'back pain': 0.006}\n",
      "\n",
      "Probability of lump: 0.0244\n"
     ]
    }
   ],
   "source": [
    "#Testing simulated patient answers\n",
    "myEnv=Env(np.array([]), 'abscess')\n",
    "print(\"Symptoms for abscess:\")\n",
    "print(myEnv._condition_symptom_probabilities['abscess'])\n",
    "n=0\n",
    "prob=0\n",
    "for i in range(10000):\n",
    "    n+=1\n",
    "    if myEnv.has_symptom('lump'):\n",
    "        prob+=1 \n",
    "print(\"\\nProbability of lump: \" + str(prob/n))"
   ]
  },
  {
   "cell_type": "code",
   "execution_count": 152,
   "id": "ae050ce7",
   "metadata": {},
   "outputs": [
    {
     "name": "stdout",
     "output_type": "stream",
     "text": [
      "prior of condition:\n",
      "0.7992065065582021\n",
      "Probability of pain: 0.318\n",
      "Result patient asking if he has pain: -1.0\n",
      "Probability of fever: 0.119\n",
      "Result patient asking if he has fever: -1.0\n",
      "Probability of swelling: 0.112\n",
      "Result patient asking if he has swelling: -1.0\n",
      "Reward: 0.42641479020233763\n"
     ]
    }
   ],
   "source": [
    "#Testing reward\n",
    "myEnv=Env(np.array([]), 'abscess')\n",
    "print(\"prior of condition:\")\n",
    "print(myEnv._current_state[list(myEnv._condition_symptom_probabilities.keys()).index(\"abscess\")])\n",
    "\n",
    "myEnv.step('pain')\n",
    "result=myEnv._current_state[len(myEnv._condition_symptom_probabilities.keys()) + list(myEnv._actions).index('pain')] \n",
    "print(\"Probability of pain: \" + str(myEnv._condition_symptom_probabilities['abscess']['pain']))\n",
    "print(\"Result patient asking if he has pain: \" + str(result))\n",
    "\n",
    "myEnv.step('fever')\n",
    "result=myEnv._current_state[len(myEnv._condition_symptom_probabilities.keys()) + list(myEnv._actions).index('fever')] \n",
    "print(\"Probability of fever: \" + str(myEnv._condition_symptom_probabilities['abscess']['fever']))\n",
    "print(\"Result patient asking if he has fever: \" + str(result))\n",
    "\n",
    "myEnv.step('swelling')\n",
    "result=myEnv._current_state[len(myEnv._condition_symptom_probabilities.keys()) + list(myEnv._actions).index('swelling')] \n",
    "print(\"Probability of swelling: \" + str(myEnv._condition_symptom_probabilities['abscess']['swelling']))\n",
    "print(\"Result patient asking if he has swelling: \" + str(result))\n",
    "\n",
    "print(\"Reward: \" + str(myEnv.reward()))"
   ]
  }
 ],
 "metadata": {
  "kernelspec": {
   "display_name": "Python 3 (ipykernel)",
   "language": "python",
   "name": "python3"
  },
  "language_info": {
   "codemirror_mode": {
    "name": "ipython",
    "version": 3
   },
   "file_extension": ".py",
   "mimetype": "text/x-python",
   "name": "python",
   "nbconvert_exporter": "python",
   "pygments_lexer": "ipython3",
   "version": "3.11.6"
  }
 },
 "nbformat": 4,
 "nbformat_minor": 5
}
