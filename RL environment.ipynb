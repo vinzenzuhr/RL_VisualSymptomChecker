{
 "cells": [
  {
   "cell_type": "markdown",
   "id": "5e78ae8c-1633-4bff-acf9-39c31127e57f",
   "metadata": {},
   "source": [
    "## Reinforcement Learning Environment"
   ]
  },
  {
   "cell_type": "code",
   "execution_count": 47,
   "id": "92d17349-7872-4ec0-a307-6787b39324f0",
   "metadata": {
    "scrolled": true
   },
   "outputs": [],
   "source": [
    "import gym\n",
    "from gym import spaces\n",
    "import pygame\n",
    "import numpy as np\n",
    "from typing import Dict, Tuple, List\n",
    "import csv"
   ]
  },
  {
   "cell_type": "code",
   "execution_count": 48,
   "id": "f93bba08-3f21-4ad7-a7a3-34882c366865",
   "metadata": {},
   "outputs": [],
   "source": [
    "class Transition:\n",
    "    state: np.array\n",
    "    action: str \n",
    "    next_state: np.array\n",
    "    reward: float \n",
    "\n",
    "class Env: \n",
    "    _condition_symptom_probabilities: Dict[str, List[Tuple[str, float]]] # conditions with symptoms and their probabilities\n",
    "    _actions: set[str] # symptoms\n",
    "    _init_state: np.array\n",
    "    _current_state: np.array\n",
    "    _img: np.array\n",
    "    _condition: str\n",
    "    _symptoms_of_condition: Dict[str, float] # symptoms of conditions\n",
    "    \n",
    "    def __init__(self,\n",
    "                 img: np.array,\n",
    "                 condition: str,\n",
    "                ) -> None:  \n",
    "        self._img = img\n",
    "        self._condition = condition\n",
    "\n",
    "        # init condition_symptom_probabilities from health knowledge graph\n",
    "        self._condition_symptom_probabilities= dict()\n",
    "        with open('HealthKnowledgeGraph.csv', newline='') as csvfile:\n",
    "            reader = csv.reader(csvfile, delimiter=',')\n",
    "            reader.__next__() # skip header\n",
    "            for condition in reader:\n",
    "                self._condition_symptom_probabilities[condition[0]] = list()\n",
    "                for symptom_prob in condition[1].split(','):\n",
    "                    # examples for symptom_prob: pain (0.318), fever (0.119) or swelling (0.112)\n",
    "                    symptom = symptom_prob.split('(')[0].strip()\n",
    "                    prob = float(symptom_prob.split('(')[1].split(')')[0])\n",
    "                    self._condition_symptom_probabilities[condition[0]].append((symptom, prob))\n",
    "\n",
    "        # init symptoms_of_condition for easier access\n",
    "        self._symptoms_of_condition = dict()\n",
    "        for symptom in self._condition_symptom_probabilities[self._condition]:\n",
    "            self._symptoms_of_condition[symptom[0]] = symptom[1] \n",
    "    \n",
    "        # init actions\n",
    "        self._actions = set()\n",
    "        for condition in self._condition_symptom_probabilities.keys():\n",
    "            for symptom in self._condition_symptom_probabilities[condition]:\n",
    "                self._actions.add(symptom[0])         \n",
    "\n",
    "        # init init_state = vector with cnn output (probabilities per condition) and history of asked symptoms (0=not asked, 1=symptom is present, -1=symptom is not present)\n",
    "        visual_prior = np.random.uniform(size=(len(self._condition_symptom_probabilities.keys()))) #TODO: replace with cnn output\n",
    "        self._init_state = np.concatenate((visual_prior,np.zeros((len(self._actions)))), axis=0)\n",
    "        self._current_state = self._init_state\n",
    "        #TODO \n",
    "\n",
    "    def has_symptom(self, symptom: str) -> bool:\n",
    "        if symptom not in self._symptoms_of_condition:\n",
    "            return False\n",
    "        else:\n",
    "            phi = np.random.uniform()\n",
    "            return phi <= self._symptoms_of_condition[symptom]  #TODO: mit excel überprüfen ob sinn macht?\n",
    "\n",
    "    def step(self, action: str) -> Transition:\n",
    "        #TODO\n",
    "        pass\n",
    "    \n",
    "    def reset(self) -> None:\n",
    "        #TODO\n",
    "        pass"
   ]
  },
  {
   "cell_type": "markdown",
   "id": "84d2cacf-7e24-42cd-944e-67ad9c4fde4f",
   "metadata": {},
   "source": [
    "### Test cases"
   ]
  },
  {
   "cell_type": "code",
   "execution_count": 54,
   "id": "d6b283ce",
   "metadata": {},
   "outputs": [
    {
     "name": "stdout",
     "output_type": "stream",
     "text": [
      "Symptoms for abscess:\n",
      "[('pain', 0.318), ('fever', 0.119), ('swelling', 0.112), ('redness', 0.094), ('chills', 0.092), ('infection', 0.083), ('cyst', 0.047), ('tenderness', 0.037), ('rectal pain', 0.026), ('lesion', 0.025), ('lump', 0.023), ('sore throat', 0.021), ('facial swelling', 0.016), ('pimple', 0.016), ('discomfort', 0.014), ('difficulty swallowing', 0.013), ('cavity', 0.013), ('night sweats', 0.007), ('severe pain', 0.007), ('abdominal pain', 0.007), ('painful swallowing', 0.007), ('back pain', 0.006)]\n",
      "\n",
      "Probability of lump: 0.0237\n"
     ]
    }
   ],
   "source": [
    "#Testing simulated patient answers\n",
    "myEnv=Env(np.array([]), 'abscess')\n",
    "print(\"Symptoms for abscess:\")\n",
    "print(myEnv._condition_symptom_probabilities['abscess'])\n",
    "n=0\n",
    "prob=0\n",
    "for i in range(10000):\n",
    "    n+=1\n",
    "    if myEnv.has_symptom('lump'):\n",
    "        prob+=1 \n",
    "print(\"\\nProbability of lump: \" + str(prob/n))"
   ]
  }
 ],
 "metadata": {
  "kernelspec": {
   "display_name": "Python 3 (ipykernel)",
   "language": "python",
   "name": "python3"
  },
  "language_info": {
   "codemirror_mode": {
    "name": "ipython",
    "version": 3
   },
   "file_extension": ".py",
   "mimetype": "text/x-python",
   "name": "python",
   "nbconvert_exporter": "python",
   "pygments_lexer": "ipython3",
   "version": "3.11.6"
  }
 },
 "nbformat": 4,
 "nbformat_minor": 5
}
